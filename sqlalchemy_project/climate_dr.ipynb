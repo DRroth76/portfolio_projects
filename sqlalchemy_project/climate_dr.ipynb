{
 "cells": [
  {
   "cell_type": "code",
   "execution_count": 2,
   "id": "fe7542e6-2642-467a-9190-3f0a05157085",
   "metadata": {
    "tags": []
   },
   "outputs": [],
   "source": [
    "%matplotlib inline\n",
    "from matplotlib import style\n",
    "style.use('fivethirtyeight')\n",
    "import matplotlib.pyplot as plt"
   ]
  },
  {
   "cell_type": "code",
   "execution_count": 3,
   "id": "0fa48e4c-f063-4ff6-be56-8bc0cb76e633",
   "metadata": {
    "tags": []
   },
   "outputs": [],
   "source": [
    "import numpy as np\n",
    "import pandas as pd\n",
    "import datetime as dt\n",
    "from dateutil.relativedelta import relativedelta"
   ]
  },
  {
   "cell_type": "code",
   "execution_count": 4,
   "id": "b38d2311-69d1-4c8e-97ea-d78918723d3f",
   "metadata": {
    "tags": []
   },
   "outputs": [],
   "source": [
    "import sqlalchemy\n",
    "from sqlalchemy.ext.automap import automap_base\n",
    "from sqlalchemy.orm import Session\n",
    "from sqlalchemy import create_engine, func, text, and_"
   ]
  },
  {
   "cell_type": "code",
   "execution_count": 5,
   "id": "100fedce-c2d6-4afc-bca2-6916b0c742fb",
   "metadata": {
    "tags": []
   },
   "outputs": [],
   "source": [
    "engine = create_engine(\"sqlite:///Resources/hawaii.sqlite\")"
   ]
  },
  {
   "cell_type": "code",
   "execution_count": 6,
   "id": "be55c394-7bcc-40f1-af00-e25247707181",
   "metadata": {
    "tags": []
   },
   "outputs": [
    {
     "data": {
      "text/plain": [
       "['measurement', 'station']"
      ]
     },
     "execution_count": 6,
     "metadata": {},
     "output_type": "execute_result"
    }
   ],
   "source": [
    "Base = automap_base()\n",
    "Base.prepare(autoload_with=engine)\n",
    "Base.classes.keys()"
   ]
  },
  {
   "cell_type": "code",
   "execution_count": 7,
   "id": "ac8f05d2-4d8b-489a-9a7f-6d505932363e",
   "metadata": {
    "tags": []
   },
   "outputs": [],
   "source": [
    "Measurement = Base.classes.measurement\n",
    "Station = Base.classes.station"
   ]
  },
  {
   "cell_type": "code",
   "execution_count": 8,
   "id": "97d6dd47-66a8-465d-8659-bc9316159427",
   "metadata": {
    "tags": []
   },
   "outputs": [],
   "source": [
    "session = Session(engine)"
   ]
  },
  {
   "cell_type": "code",
   "execution_count": 9,
   "id": "4d0e93cb-ba72-442a-9f1b-08009a1eef71",
   "metadata": {
    "tags": []
   },
   "outputs": [
    {
     "name": "stdout",
     "output_type": "stream",
     "text": [
      "(1, 65.0)\n",
      "(2, 63.0)\n",
      "(3, 74.0)\n",
      "(4, 76.0)\n",
      "(5, 73.0)\n"
     ]
    }
   ],
   "source": [
    "for row in session.query(Measurement.id, Measurement.tobs).limit(5).all():\n",
    "    print(row)"
   ]
  },
  {
   "cell_type": "code",
   "execution_count": 10,
   "id": "d8e26eb1-95fb-4b5f-9344-245f9fc14898",
   "metadata": {
    "tags": []
   },
   "outputs": [
    {
     "name": "stdout",
     "output_type": "stream",
     "text": [
      "(1, 21.2716, -157.8168, 3.0)\n",
      "(2, 21.4234, -157.8015, 14.6)\n",
      "(3, 21.5213, -157.8374, 7.0)\n",
      "(4, 21.3934, -157.9751, 11.9)\n",
      "(5, 21.4992, -158.0111, 306.6)\n"
     ]
    }
   ],
   "source": [
    "for row in session.query(Station.id, Station.latitude, Station.longitude, Station.elevation).limit(5).all():\n",
    "    print(row)"
   ]
  },
  {
   "cell_type": "code",
   "execution_count": 20,
   "id": "9dd5fa56-e448-4d3a-9b05-327ca4b25bd4",
   "metadata": {
    "tags": []
   },
   "outputs": [
    {
     "name": "stdout",
     "output_type": "stream",
     "text": [
      "2017-08-23\n"
     ]
    }
   ],
   "source": [
    "recent_date_query = session.execute(\"SELECT MAX(date) FROM measurement\").scalar()\n",
    "recent_date = dt.datetime.strptime(recent_date_query, \"%Y-%m-%d\").date()\n",
    "print(recent_date)"
   ]
  },
  {
   "cell_type": "code",
   "execution_count": 12,
   "id": "ab422382-70a9-415d-b0aa-9c91c647925c",
   "metadata": {
    "tags": []
   },
   "outputs": [
    {
     "name": "stdout",
     "output_type": "stream",
     "text": [
      "2016-08-23\n"
     ]
    }
   ],
   "source": [
    "for_year_ago = dt.datetime.combine(recent_date, dt.datetime.min.time())\n",
    "year_ago = recent_date - relativedelta(months = 12)\n",
    "print(year_ago)"
   ]
  },
  {
   "cell_type": "code",
   "execution_count": 13,
   "id": "6762cfd9-66ef-49f4-ba43-fb8afb259749",
   "metadata": {
    "tags": []
   },
   "outputs": [],
   "source": [
    "data_for_year = session.query(Measurement.date, Measurement.prcp).\\\n",
    "filter(and_(Measurement.date >= year_ago, Measurement.date <= recent_date)).\\\n",
    "order_by(Measurement.date).all()\n"
   ]
  },
  {
   "cell_type": "code",
   "execution_count": 14,
   "id": "dd1fdbe6-a6c3-4cd0-986a-5a1ed8c6803d",
   "metadata": {
    "tags": []
   },
   "outputs": [],
   "source": [
    "dates = [row.date for row in data_for_year]\n",
    "prcp = [row.prcp for row in data_for_year]"
   ]
  },
  {
   "cell_type": "code",
   "execution_count": 15,
   "id": "2907a3cd-01c5-4f66-ac25-956e1d9650e5",
   "metadata": {
    "tags": []
   },
   "outputs": [
    {
     "data": {
      "text/html": [
       "<div>\n",
       "<style scoped>\n",
       "    .dataframe tbody tr th:only-of-type {\n",
       "        vertical-align: middle;\n",
       "    }\n",
       "\n",
       "    .dataframe tbody tr th {\n",
       "        vertical-align: top;\n",
       "    }\n",
       "\n",
       "    .dataframe thead th {\n",
       "        text-align: right;\n",
       "    }\n",
       "</style>\n",
       "<table border=\"1\" class=\"dataframe\">\n",
       "  <thead>\n",
       "    <tr style=\"text-align: right;\">\n",
       "      <th></th>\n",
       "      <th>Date</th>\n",
       "      <th>Precipitation</th>\n",
       "    </tr>\n",
       "  </thead>\n",
       "  <tbody>\n",
       "    <tr>\n",
       "      <th>0</th>\n",
       "      <td>2016-08-23</td>\n",
       "      <td>0.00</td>\n",
       "    </tr>\n",
       "    <tr>\n",
       "      <th>1</th>\n",
       "      <td>2016-08-23</td>\n",
       "      <td>0.15</td>\n",
       "    </tr>\n",
       "    <tr>\n",
       "      <th>2</th>\n",
       "      <td>2016-08-23</td>\n",
       "      <td>0.05</td>\n",
       "    </tr>\n",
       "    <tr>\n",
       "      <th>4</th>\n",
       "      <td>2016-08-23</td>\n",
       "      <td>0.02</td>\n",
       "    </tr>\n",
       "    <tr>\n",
       "      <th>5</th>\n",
       "      <td>2016-08-23</td>\n",
       "      <td>1.79</td>\n",
       "    </tr>\n",
       "    <tr>\n",
       "      <th>...</th>\n",
       "      <td>...</td>\n",
       "      <td>...</td>\n",
       "    </tr>\n",
       "    <tr>\n",
       "      <th>2225</th>\n",
       "      <td>2017-08-22</td>\n",
       "      <td>0.50</td>\n",
       "    </tr>\n",
       "    <tr>\n",
       "      <th>2226</th>\n",
       "      <td>2017-08-23</td>\n",
       "      <td>0.00</td>\n",
       "    </tr>\n",
       "    <tr>\n",
       "      <th>2227</th>\n",
       "      <td>2017-08-23</td>\n",
       "      <td>0.00</td>\n",
       "    </tr>\n",
       "    <tr>\n",
       "      <th>2228</th>\n",
       "      <td>2017-08-23</td>\n",
       "      <td>0.08</td>\n",
       "    </tr>\n",
       "    <tr>\n",
       "      <th>2229</th>\n",
       "      <td>2017-08-23</td>\n",
       "      <td>0.45</td>\n",
       "    </tr>\n",
       "  </tbody>\n",
       "</table>\n",
       "<p>2021 rows × 2 columns</p>\n",
       "</div>"
      ],
      "text/plain": [
       "            Date  Precipitation\n",
       "0     2016-08-23           0.00\n",
       "1     2016-08-23           0.15\n",
       "2     2016-08-23           0.05\n",
       "4     2016-08-23           0.02\n",
       "5     2016-08-23           1.79\n",
       "...          ...            ...\n",
       "2225  2017-08-22           0.50\n",
       "2226  2017-08-23           0.00\n",
       "2227  2017-08-23           0.00\n",
       "2228  2017-08-23           0.08\n",
       "2229  2017-08-23           0.45\n",
       "\n",
       "[2021 rows x 2 columns]"
      ]
     },
     "execution_count": 15,
     "metadata": {},
     "output_type": "execute_result"
    }
   ],
   "source": [
    "past_year_df = pd.DataFrame({\n",
    "    \"Date\": dates,\n",
    "    \"Precipitation\": prcp})\n",
    "past_year_nonull = past_year_df.dropna()\n",
    "past_year_nonull"
   ]
  },
  {
   "cell_type": "code",
   "execution_count": 16,
   "id": "3ea248bd-883d-4d97-9a59-3185b265130c",
   "metadata": {
    "tags": []
   },
   "outputs": [
    {
     "data": {
      "image/png": "[encoded data removed]",
      "text/plain": [
       "<Figure size 1200x600 with 1 Axes>"
      ]
     },
     "metadata": {},
     "output_type": "display_data"
    },
    {
     "data": {
      "text/plain": [
       "<Figure size 640x480 with 0 Axes>"
      ]
     },
     "metadata": {},
     "output_type": "display_data"
    }
   ],
   "source": [
    "x_axis = past_year_nonull[\"Date\"]\n",
    "y_axis = past_year_nonull[\"Precipitation\"]\n",
    "\n",
    "bar_chart_df = pd.DataFrame({'Date': x_axis, 'Precipitation': y_axis})\n",
    "ax = bar_chart_df.plot(kind='bar', x='Date', y='Precipitation', legend=False, width = 16, figsize=(12,6))\n",
    "ax.set_xticks(np.arange(0, len(bar_chart_df['Date']), 248))\n",
    "ax.set_xticklabels(bar_chart_df['Date'][::248], rotation=30)\n",
    "plt.xlabel('Date')\n",
    "plt.ylabel('Precipitation (Inches)')\n",
    "plt.show()\n",
    "plt.tight_layout()"
   ]
  },
  {
   "cell_type": "code",
   "execution_count": 17,
   "id": "1d757b52-966a-479a-afe2-713b1fb89105",
   "metadata": {
    "tags": []
   },
   "outputs": [
    {
     "data": {
      "text/html": [
       "<div>\n",
       "<style scoped>\n",
       "    .dataframe tbody tr th:only-of-type {\n",
       "        vertical-align: middle;\n",
       "    }\n",
       "\n",
       "    .dataframe tbody tr th {\n",
       "        vertical-align: top;\n",
       "    }\n",
       "\n",
       "    .dataframe thead th {\n",
       "        text-align: right;\n",
       "    }\n",
       "</style>\n",
       "<table border=\"1\" class=\"dataframe\">\n",
       "  <thead>\n",
       "    <tr style=\"text-align: right;\">\n",
       "      <th></th>\n",
       "      <th>Precipitation</th>\n",
       "    </tr>\n",
       "  </thead>\n",
       "  <tbody>\n",
       "    <tr>\n",
       "      <th>count</th>\n",
       "      <td>2021.000000</td>\n",
       "    </tr>\n",
       "    <tr>\n",
       "      <th>mean</th>\n",
       "      <td>0.177279</td>\n",
       "    </tr>\n",
       "    <tr>\n",
       "      <th>std</th>\n",
       "      <td>0.461190</td>\n",
       "    </tr>\n",
       "    <tr>\n",
       "      <th>min</th>\n",
       "      <td>0.000000</td>\n",
       "    </tr>\n",
       "    <tr>\n",
       "      <th>25%</th>\n",
       "      <td>0.000000</td>\n",
       "    </tr>\n",
       "    <tr>\n",
       "      <th>50%</th>\n",
       "      <td>0.020000</td>\n",
       "    </tr>\n",
       "    <tr>\n",
       "      <th>75%</th>\n",
       "      <td>0.130000</td>\n",
       "    </tr>\n",
       "    <tr>\n",
       "      <th>max</th>\n",
       "      <td>6.700000</td>\n",
       "    </tr>\n",
       "  </tbody>\n",
       "</table>\n",
       "</div>"
      ],
      "text/plain": [
       "       Precipitation\n",
       "count    2021.000000\n",
       "mean        0.177279\n",
       "std         0.461190\n",
       "min         0.000000\n",
       "25%         0.000000\n",
       "50%         0.020000\n",
       "75%         0.130000\n",
       "max         6.700000"
      ]
     },
     "execution_count": 17,
     "metadata": {},
     "output_type": "execute_result"
    }
   ],
   "source": [
    "past_year_nonull.describe()"
   ]
  },
  {
   "cell_type": "code",
   "execution_count": 18,
   "id": "284198fc-b7e2-4e56-8ffb-b54a7c62e65b",
   "metadata": {
    "tags": []
   },
   "outputs": [
    {
     "data": {
      "text/plain": [
       "9"
      ]
     },
     "execution_count": 18,
     "metadata": {},
     "output_type": "execute_result"
    }
   ],
   "source": [
    "number_of_stations = session.query(Station.id).count()\n",
    "number_of_stations"
   ]
  },
  {
   "cell_type": "code",
   "execution_count": 19,
   "id": "918d3604-29c9-4336-9321-fd037c07f86e",
   "metadata": {
    "tags": []
   },
   "outputs": [
    {
     "data": {
      "text/plain": [
       "[('USC00519281', 2772),\n",
       " ('USC00519397', 2724),\n",
       " ('USC00513117', 2709),\n",
       " ('USC00519523', 2669),\n",
       " ('USC00516128', 2612),\n",
       " ('USC00514830', 2202),\n",
       " ('USC00511918', 1979),\n",
       " ('USC00517948', 1372),\n",
       " ('USC00518838', 511)]"
      ]
     },
     "execution_count": 19,
     "metadata": {},
     "output_type": "execute_result"
    }
   ],
   "source": [
    "station_busyness = session.query(Measurement.station, func.count().label('count')) \\\n",
    ".group_by(Measurement.station) \\\n",
    ".order_by(func.count().desc()) \\\n",
    ".all()\n",
    "station_busyness\n",
    "# USC00519281 is the most active station, with 2772 observations."
   ]
  },
  {
   "cell_type": "code",
   "execution_count": 20,
   "id": "dd77ed67-e6d5-4c16-928f-dc8c5d38b197",
   "metadata": {
    "tags": []
   },
   "outputs": [
    {
     "data": {
      "text/plain": [
       "('USC00519281', 2772)"
      ]
     },
     "execution_count": 20,
     "metadata": {},
     "output_type": "execute_result"
    }
   ],
   "source": [
    "most_active = session.query(Measurement.station, func.count().label('count')) \\\n",
    ".group_by(Measurement.station) \\\n",
    ".order_by(func.count().desc()) \\\n",
    ".first()\n",
    "most_active"
   ]
  },
  {
   "cell_type": "code",
   "execution_count": 21,
   "id": "bde59d42-21fe-4006-85ee-340042b6d113",
   "metadata": {
    "tags": []
   },
   "outputs": [
    {
     "name": "stdout",
     "output_type": "stream",
     "text": [
      "85.0 54.0 71.66378066378067\n"
     ]
    }
   ],
   "source": [
    "busiest_station = most_active[0]\n",
    "max_temp = session.query(func.max(Measurement.tobs)).filter(Measurement.station == busiest_station).scalar()\n",
    "min_temp = session.query(func.min(Measurement.tobs)).filter(Measurement.station == busiest_station).scalar()\n",
    "avg_temp = session.query(func.avg(Measurement.tobs)).filter(Measurement.station == busiest_station).scalar()\n",
    "print(max_temp, min_temp, avg_temp)"
   ]
  },
  {
   "cell_type": "code",
   "execution_count": 22,
   "id": "d18acba6-9822-4720-a4a3-14c018d7726d",
   "metadata": {
    "tags": []
   },
   "outputs": [],
   "source": [
    "past_year_busiest_station = session.query(Measurement.tobs).filter(and_(Measurement.date >= year_ago, Measurement.date <= recent_date, Measurement.station == busiest_station)).all()"
   ]
  },
  {
   "cell_type": "code",
   "execution_count": 23,
   "id": "e8ea3f20-6a88-4369-af4c-3bed6f9d7cca",
   "metadata": {
    "tags": []
   },
   "outputs": [
    {
     "data": {
      "image/png": "[encoded data removed]",
      "text/plain": [
       "<Figure size 640x480 with 1 Axes>"
      ]
     },
     "metadata": {},
     "output_type": "display_data"
    }
   ],
   "source": [
    "array_of_pybs = np.array([past_year_busiest_station])\n",
    "flattened_array = array_of_pybs.ravel()\n",
    "plt.hist(flattened_array, bins=12)\n",
    "plt.xlabel('Temperature')\n",
    "plt.ylabel('Frequency')\n",
    "plt.show()"
   ]
  },
  {
   "cell_type": "code",
   "execution_count": 24,
   "id": "2a0d0f4b-c0b3-466f-826c-827f66072f02",
   "metadata": {
    "tags": []
   },
   "outputs": [],
   "source": [
    "session.close()"
   ]
  },
  {
   "cell_type": "code",
   "execution_count": null,
   "id": "8553f06a-f640-4190-9eb3-dfc695161ffb",
   "metadata": {},
   "outputs": [],
   "source": []
  }
 ],
 "metadata": {
  "kernelspec": {
   "display_name": "Python 3 (ipykernel)",
   "language": "python",
   "name": "python3"
  },
  "language_info": {
   "codemirror_mode": {
    "name": "ipython",
    "version": 3
   },
   "file_extension": ".py",
   "mimetype": "text/x-python",
   "name": "python",
   "nbconvert_exporter": "python",
   "pygments_lexer": "ipython3",
   "version": "3.11.5"
  }
 },
 "nbformat": 4,
 "nbformat_minor": 5
}
