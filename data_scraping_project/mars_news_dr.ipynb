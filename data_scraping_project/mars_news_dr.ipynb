{
 "cells": [
  {
   "cell_type": "code",
   "execution_count": 1,
   "id": "23b52217-e2ab-4695-95e1-7aeed88edbdd",
   "metadata": {
    "tags": []
   },
   "outputs": [],
   "source": [
    "from splinter import Browser\n",
    "from bs4 import BeautifulSoup as soup"
   ]
  },
  {
   "cell_type": "code",
   "execution_count": 2,
   "id": "3ced4084-a7c6-4cfe-98b2-4f2a7dbaa91f",
   "metadata": {
    "tags": []
   },
   "outputs": [],
   "source": [
    "browser = Browser('chrome')"
   ]
  },
  {
   "cell_type": "code",
   "execution_count": 3,
   "id": "637eb873-fafc-42d7-a304-e42ae6b8ab6f",
   "metadata": {
    "tags": []
   },
   "outputs": [],
   "source": [
    "url = 'https://static.bc-edx.com/data/web/mars_news/index.html'\n",
    "browser.visit(url)"
   ]
  },
  {
   "cell_type": "code",
   "execution_count": 4,
   "id": "05e4ec20-ad21-45b4-814a-1125bb52fe7a",
   "metadata": {
    "tags": []
   },
   "outputs": [],
   "source": [
    "html = browser.html\n",
    "soup = soup(html, 'html.parser')"
   ]
  },
  {
   "cell_type": "code",
   "execution_count": 5,
   "id": "89ee0358-c239-41b8-8392-9ea34ae098fd",
   "metadata": {
    "tags": []
   },
   "outputs": [
    {
     "name": "stdout",
     "output_type": "stream",
     "text": [
      "News - Mars Exploration Program\n",
      "MARS Planet Science\n",
      "Exploration Program\n",
      "The Red Planet\n",
      "The Program\n",
      "News & Events\n",
      "Multimedia\n",
      "Missions\n",
      "More\n",
      "News\n",
      "Latest\n",
      "All Categories\n",
      "November 9, 2022\n",
      "NASA's MAVEN Observes Martian Light Show Caused by Major Solar Storm\n",
      "For the first time in its eight years orbiting Mars, NASA’s MAVEN mission witnessed two different types of ultraviolet aurorae simultaneously, the result of solar storms that began on Aug. 27.\n",
      "November 1, 2022\n",
      "NASA Prepares to Say 'Farewell' to InSight Spacecraft\n",
      "A closer look at what goes into wrapping up the mission as the spacecraft’s power supply continues to dwindle.\n",
      "October 28, 2022\n",
      "NASA and ESA Agree on Next Steps to Return Mars Samples to Earth\n",
      "The agency’s Perseverance rover will establish the first sample depot on Mars.\n",
      "October 27, 2022\n",
      "NASA's InSight Lander Detects Stunning Meteoroid Impact on Mars\n",
      "The agency’s lander felt the ground shake during the impact while cameras aboard the Mars Reconnaissance Orbiter spotted the yawning new crater from space.\n",
      "October 21, 2022\n",
      "NASA To Host Briefing on InSight, Mars Reconnaissance Orbiter Findings\n",
      "Scientists from two Mars missions will discuss how they combined images and data for a major finding on the Red Planet.\n",
      "October 20, 2022\n",
      "Why NASA Is Trying To Crash Land on Mars\n",
      "Like a car’s crumple zone, the experimental SHIELD lander is designed to absorb a hard impact.\n",
      "October 19, 2022\n",
      "Curiosity Mars Rover Reaches Long-Awaited Salty Region\n",
      "After years of climbing, the Mars rover has arrived at a special region believed to have formed as Mars’ climate was drying.\n",
      "October 12, 2022\n",
      "Mars Mission Shields Up for Tests\n",
      "Protecting Mars Sample Return spacecraft from micrometeorites requires high-caliber work.\n",
      "October 7, 2022\n",
      "NASA's InSight Waits Out Dust Storm\n",
      "InSight’s team is taking steps to help the solar-powered lander continue operating for as long as possible.\n",
      "September 19, 2022\n",
      "NASA's InSight 'Hears' Its First Meteoroid Impacts on Mars\n",
      "The Mars lander’s seismometer has picked up vibrations from four separate impacts in the past two years.\n",
      "September 15, 2022\n",
      "NASA's Perseverance Rover Investigates Geologically Rich Mars Terrain\n",
      "The latest findings provide greater detail on a region of the Red Planet that has a watery past and is yielding promising samples for the NASA-ESA Mars Sample Return campaign.\n",
      "September 12, 2022\n",
      "NASA to Host Briefing on Perseverance Mars Rover Mission Operations\n",
      "Members of the mission will discuss the rover’s activities as it gathers samples in an ancient river delta.\n",
      "August 25, 2022\n",
      "NASA's Perseverance Makes New Discoveries in Mars' Jezero Crater\n",
      "The rover found that Jezero Crater’s floor is made up of volcanic rocks that have interacted with water.\n",
      "August 5, 2022\n",
      "10 Years Since Landing, NASA's Curiosity Mars Rover Still Has Drive\n",
      "Despite signs of wear, the intrepid spacecraft is about to start an exciting new chapter of its mission as it climbs a Martian mountain.\n",
      "August 4, 2022\n",
      "SAM's Top 5 Discoveries Aboard NASA's Curiosity Rover at Mars\n",
      "“Selfie” of the Curiosity rover with inset showing the SAM instrument prior to installation on the rover.\n",
      "More\n",
      "You Might Also Like\n",
      "NASA Marks 25 Years Since Pathfinder Touched Down on Mars\n",
      "NASA's Perseverance Rover Captures Video of Solar Eclipse on Mars\n",
      "NASA, UAE Mars Missions Agree to Share Science Data\n",
      "The Red Planet\n",
      "Dashboard\n",
      "Science Goals\n",
      "The Planet\n",
      "The Program\n",
      "Mission Statement\n",
      "About the Program\n",
      "Organization Why Mars?\n",
      "Multimedia\n",
      "Images\n",
      "Videos\n",
      "More Resources\n",
      "Missions\n",
      "Past\n",
      "Present\n",
      "Future\n",
      "Images and news content extracted from NASA's\n",
      "Mars News\n",
      "website on November 9, 2022.\n",
      "Images used in accordance with the\n",
      "JPL Image Use Policy\n",
      ".\n",
      "This site is operated by edX Boot Camps LLC for educational purposes only.\n",
      "This is not a website endorsed by NASA. This website is intended only for internal academic purposes.\n"
     ]
    }
   ],
   "source": [
    "text_elements = soup.find_all(string=True)\n",
    "for text in text_elements:\n",
    "    if text.strip():  # skips empty/whitespace-only strings\n",
    "        print(text.strip())"
   ]
  },
  {
   "cell_type": "code",
   "execution_count": 6,
   "id": "9603374f-7cb0-43cd-9dc5-196370008d0a",
   "metadata": {
    "tags": []
   },
   "outputs": [
    {
     "name": "stdout",
     "output_type": "stream",
     "text": [
      "NASA's MAVEN Observes Martian Light Show Caused by Major Solar Storm\n",
      "NASA Prepares to Say 'Farewell' to InSight Spacecraft\n",
      "NASA and ESA Agree on Next Steps to Return Mars Samples to Earth\n",
      "NASA's InSight Lander Detects Stunning Meteoroid Impact on Mars\n",
      "NASA To Host Briefing on InSight, Mars Reconnaissance Orbiter Findings\n",
      "Why NASA Is Trying To Crash Land on Mars\n",
      "Curiosity Mars Rover Reaches Long-Awaited Salty Region\n",
      "Mars Mission Shields Up for Tests\n",
      "NASA's InSight Waits Out Dust Storm\n",
      "NASA's InSight 'Hears' Its First Meteoroid Impacts on Mars\n",
      "NASA's Perseverance Rover Investigates Geologically Rich Mars Terrain\n",
      "NASA to Host Briefing on Perseverance Mars Rover Mission Operations\n",
      "NASA's Perseverance Makes New Discoveries in Mars' Jezero Crater\n",
      "10 Years Since Landing, NASA's Curiosity Mars Rover Still Has Drive\n",
      "SAM's Top 5 Discoveries Aboard NASA's Curiosity Rover at Mars\n"
     ]
    }
   ],
   "source": [
    "titles = soup.find_all(class_=\"content_title\")\n",
    "for title in titles:\n",
    "    print(title.get_text())"
   ]
  },
  {
   "cell_type": "code",
   "execution_count": 7,
   "id": "68859d08-76f4-409f-8c9e-e55b414fba43",
   "metadata": {
    "tags": []
   },
   "outputs": [
    {
     "name": "stdout",
     "output_type": "stream",
     "text": [
      "For the first time in its eight years orbiting Mars, NASA’s MAVEN mission witnessed two different types of ultraviolet aurorae simultaneously, the result of solar storms that began on Aug. 27.\n",
      "A closer look at what goes into wrapping up the mission as the spacecraft’s power supply continues to dwindle.\n",
      "The agency’s Perseverance rover will establish the first sample depot on Mars.\n",
      "The agency’s lander felt the ground shake during the impact while cameras aboard the Mars Reconnaissance Orbiter spotted the yawning new crater from space.\n",
      "Scientists from two Mars missions will discuss how they combined images and data for a major finding on the Red Planet.\n",
      "Like a car’s crumple zone, the experimental SHIELD lander is designed to absorb a hard impact.\n",
      "After years of climbing, the Mars rover has arrived at a special region believed to have formed as Mars’ climate was drying.\n",
      "Protecting Mars Sample Return spacecraft from micrometeorites requires high-caliber work.\n",
      "InSight’s team is taking steps to help the solar-powered lander continue operating for as long as possible.\n",
      "The Mars lander’s seismometer has picked up vibrations from four separate impacts in the past two years.\n",
      "The latest findings provide greater detail on a region of the Red Planet that has a watery past and is yielding promising samples for the NASA-ESA Mars Sample Return campaign.\n",
      "Members of the mission will discuss the rover’s activities as it gathers samples in an ancient river delta.\n",
      "The rover found that Jezero Crater’s floor is made up of volcanic rocks that have interacted with water.\n",
      "Despite signs of wear, the intrepid spacecraft is about to start an exciting new chapter of its mission as it climbs a Martian mountain.\n",
      "“Selfie” of the Curiosity rover with inset showing the SAM instrument prior to installation on the rover.\n"
     ]
    }
   ],
   "source": [
    "previews = soup.find_all(class_=\"article_teaser_body\")\n",
    "for preview in previews:\n",
    "    print(preview.get_text())"
   ]
  },
  {
   "cell_type": "code",
   "execution_count": 8,
   "id": "4d13c4aa-eb12-4373-b374-afac2430bc83",
   "metadata": {
    "tags": []
   },
   "outputs": [
    {
     "name": "stdout",
     "output_type": "stream",
     "text": [
      "[{'title': \"NASA's MAVEN Observes Martian Light Show Caused by Major Solar Storm\", 'preview': 'For the first time in its eight years orbiting Mars, NASA’s MAVEN mission witnessed two different types of ultraviolet aurorae simultaneously, the result of solar storms that began on Aug. 27.'}, {'title': \"NASA Prepares to Say 'Farewell' to InSight Spacecraft\", 'preview': 'A closer look at what goes into wrapping up the mission as the spacecraft’s power supply continues to dwindle.'}, {'title': 'NASA and ESA Agree on Next Steps to Return Mars Samples to Earth', 'preview': 'The agency’s Perseverance rover will establish the first sample depot on Mars.'}, {'title': \"NASA's InSight Lander Detects Stunning Meteoroid Impact on Mars\", 'preview': 'The agency’s lander felt the ground shake during the impact while cameras aboard the Mars Reconnaissance Orbiter spotted the yawning new crater from space.'}, {'title': 'NASA To Host Briefing on InSight, Mars Reconnaissance Orbiter Findings', 'preview': 'Scientists from two Mars missions will discuss how they combined images and data for a major finding on the Red Planet.'}, {'title': 'Why NASA Is Trying To Crash Land on Mars', 'preview': 'Like a car’s crumple zone, the experimental SHIELD lander is designed to absorb a hard impact.'}, {'title': 'Curiosity Mars Rover Reaches Long-Awaited Salty Region', 'preview': 'After years of climbing, the Mars rover has arrived at a special region believed to have formed as Mars’ climate was drying.'}, {'title': 'Mars Mission Shields Up for Tests', 'preview': 'Protecting Mars Sample Return spacecraft from micrometeorites requires high-caliber work.'}, {'title': \"NASA's InSight Waits Out Dust Storm\", 'preview': 'InSight’s team is taking steps to help the solar-powered lander continue operating for as long as possible.'}, {'title': \"NASA's InSight 'Hears' Its First Meteoroid Impacts on Mars\", 'preview': 'The Mars lander’s seismometer has picked up vibrations from four separate impacts in the past two years.'}, {'title': \"NASA's Perseverance Rover Investigates Geologically Rich Mars Terrain\", 'preview': 'The latest findings provide greater detail on a region of the Red Planet that has a watery past and is yielding promising samples for the NASA-ESA Mars Sample Return campaign.'}, {'title': 'NASA to Host Briefing on Perseverance Mars Rover Mission Operations', 'preview': 'Members of the mission will discuss the rover’s activities as it gathers samples in an ancient river delta.'}, {'title': \"NASA's Perseverance Makes New Discoveries in Mars' Jezero Crater\", 'preview': 'The rover found that Jezero Crater’s floor is made up of volcanic rocks that have interacted with water.'}, {'title': \"10 Years Since Landing, NASA's Curiosity Mars Rover Still Has Drive\", 'preview': 'Despite signs of wear, the intrepid spacecraft is about to start an exciting new chapter of its mission as it climbs a Martian mountain.'}, {'title': \"SAM's Top 5 Discoveries Aboard NASA's Curiosity Rover at Mars\", 'preview': '“Selfie” of the Curiosity rover with inset showing the SAM instrument prior to installation on the rover.'}]\n"
     ]
    }
   ],
   "source": [
    "titles_and_previews = []\n",
    "for title, preview in zip(titles, previews):\n",
    "    title_preview_dict = {\n",
    "    \"title\": title.get_text(strip=True),\n",
    "    \"preview\": preview.get_text(strip=True)\n",
    "    }\n",
    "    titles_and_previews.append(title_preview_dict)\n",
    "print(titles_and_previews)"
   ]
  },
  {
   "cell_type": "code",
   "execution_count": 9,
   "id": "2b7f4bd3-6ed5-4164-923f-90e487ae4553",
   "metadata": {
    "tags": []
   },
   "outputs": [],
   "source": [
    "browser.quit()"
   ]
  },
  {
   "cell_type": "code",
   "execution_count": null,
   "id": "1ade2132-52f9-49d8-bccb-63cf61b8b215",
   "metadata": {},
   "outputs": [],
   "source": []
  }
 ],
 "metadata": {
  "kernelspec": {
   "display_name": "Python 3 (ipykernel)",
   "language": "python",
   "name": "python3"
  },
  "language_info": {
   "codemirror_mode": {
    "name": "ipython",
    "version": 3
   },
   "file_extension": ".py",
   "mimetype": "text/x-python",
   "name": "python",
   "nbconvert_exporter": "python",
   "pygments_lexer": "ipython3",
   "version": "3.11.5"
  }
 },
 "nbformat": 4,
 "nbformat_minor": 5
}
